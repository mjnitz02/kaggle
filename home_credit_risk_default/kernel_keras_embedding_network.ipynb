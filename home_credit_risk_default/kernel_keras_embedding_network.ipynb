{
 "cells": [
  {
   "cell_type": "code",
   "execution_count": 3,
   "metadata": {},
   "outputs": [
    {
     "ename": "FileNotFoundError",
     "evalue": "[Errno 2] No such file or directory: './input/'",
     "output_type": "error",
     "traceback": [
      "\u001b[0;31m---------------------------------------------------------------------------\u001b[0m",
      "\u001b[0;31mFileNotFoundError\u001b[0m                         Traceback (most recent call last)",
      "\u001b[0;32m<ipython-input-3-05c0e17fe327>\u001b[0m in \u001b[0;36m<module>\u001b[0;34m\u001b[0m\n\u001b[1;32m     15\u001b[0m \u001b[0;32mimport\u001b[0m \u001b[0mos\u001b[0m\u001b[0;34m\u001b[0m\u001b[0;34m\u001b[0m\u001b[0m\n\u001b[1;32m     16\u001b[0m \u001b[0minput_dir\u001b[0m \u001b[0;34m=\u001b[0m \u001b[0;34m'./input/'\u001b[0m\u001b[0;34m\u001b[0m\u001b[0;34m\u001b[0m\u001b[0m\n\u001b[0;32m---> 17\u001b[0;31m \u001b[0mprint\u001b[0m\u001b[0;34m(\u001b[0m\u001b[0mos\u001b[0m\u001b[0;34m.\u001b[0m\u001b[0mlistdir\u001b[0m\u001b[0;34m(\u001b[0m\u001b[0minput_dir\u001b[0m\u001b[0;34m)\u001b[0m\u001b[0;34m)\u001b[0m\u001b[0;34m\u001b[0m\u001b[0;34m\u001b[0m\u001b[0m\n\u001b[0m",
      "\u001b[0;31mFileNotFoundError\u001b[0m: [Errno 2] No such file or directory: './input/'"
     ]
    }
   ],
   "source": [
    "import numpy as np \n",
    "import pandas as pd \n",
    "import matplotlib.pyplot as plt\n",
    "import gc\n",
    "from sklearn.preprocessing import LabelEncoder, MinMaxScaler\n",
    "from sklearn.model_selection import StratifiedKFold\n",
    "from sklearn.metrics import roc_auc_score, precision_recall_curve, roc_curve, average_precision_score, confusion_matrix\n",
    "from keras.models import Sequential, Model\n",
    "from keras.layers import Dense, Activation, merge, Reshape, Dropout, Input, Flatten, Concatenate\n",
    "from keras.layers.embeddings import Embedding\n",
    "from keras.callbacks import EarlyStopping\n",
    "from keras import backend\n",
    "\n",
    "\n",
    "import os\n",
    "input_dir = './input/'\n",
    "print(os.listdir(input_dir))"
   ]
  },
  {
   "cell_type": "code",
   "execution_count": 92,
   "metadata": {},
   "outputs": [],
   "source": [
    "app_train_df = pd.read_csv(os.path.join(input_dir, 'application_train.csv'))\n",
    "app_test_df = pd.read_csv(os.path.join(input_dir, 'application_test.csv'))\n",
    "bureau_df = pd.read_csv(os.path.join(input_dir, 'bureau.csv')).drop(columns=['SK_ID_BUREAU'])\n",
    "bureau_balance_df = pd.read_csv(os.path.join(input_dir, 'bureau_balance.csv'))\n",
    "credit_card_df = pd.read_csv(os.path.join(input_dir, 'credit_card_balance.csv')).drop(columns=['SK_ID_PREV'])\n",
    "pos_cash_df = pd.read_csv(os.path.join(input_dir, 'POS_CASH_balance.csv')).drop(columns=['SK_ID_PREV'])\n",
    "install_df = pd.read_csv(os.path.join(input_dir, 'installments_payments.csv')).drop(columns=['SK_ID_PREV'])\n",
    "prev_app_df = pd.read_csv(os.path.join(input_dir, 'previous_application.csv')).drop(columns=['SK_ID_PREV'])"
   ]
  },
  {
   "cell_type": "code",
   "execution_count": 93,
   "metadata": {},
   "outputs": [
    {
     "data": {
      "text/plain": [
       "(307511,)"
      ]
     },
     "execution_count": 93,
     "metadata": {},
     "output_type": "execute_result"
    }
   ],
   "source": [
    "app_train_df.SK_ID_CURR.unique().shape"
   ]
  },
  {
   "cell_type": "code",
   "execution_count": 95,
   "metadata": {},
   "outputs": [],
   "source": [
    "def aggregate_numeric(df, index, method):\n",
    "    return df.groupby(index).agg(method).reset_index()\n",
    "\n",
    "def most_recent_all(df, index, recent_index):\n",
    "    recent = df.groupby(index)[recent_index].idxmax()\n",
    "    return df.loc[recent, :]\n",
    "\n",
    "def most_recent_categorical(df, index, recent_index):\n",
    "    recent = df.groupby(index)[recent_index].idxmax()\n",
    "    categories = [index] + df.columns[df.dtypes == 'object'].tolist()\n",
    "    return df.loc[recent, categories]"
   ]
  },
  {
   "cell_type": "code",
   "execution_count": 96,
   "metadata": {},
   "outputs": [],
   "source": [
    "# Aggregate bureau information\n",
    "bureau_average_numerical = aggregate_numeric(bureau_df, 'SK_ID_CURR', 'mean')\n",
    "bureau_recent_categories = most_recent_categorical(bureau_df, 'SK_ID_CURR', 'DAYS_CREDIT')"
   ]
  },
  {
   "cell_type": "code",
   "execution_count": 97,
   "metadata": {},
   "outputs": [],
   "source": [
    "# Aggregate credit card information\n",
    "credit_average_numerical = aggregate_numeric(credit_card_df, 'SK_ID_CURR', 'mean')\n",
    "credit_recent_categories = most_recent_categorical(credit_card_df, 'SK_ID_CURR', 'MONTHS_BALANCE')"
   ]
  },
  {
   "cell_type": "code",
   "execution_count": 98,
   "metadata": {},
   "outputs": [],
   "source": [
    "# Aggregate pos \n",
    "pos_average_numerical = aggregate_numeric(pos_cash_df, 'SK_ID_CURR', 'mean')\n",
    "pos_recent_categories = most_recent_categorical(pos_cash_df, 'SK_ID_CURR', 'MONTHS_BALANCE')"
   ]
  },
  {
   "cell_type": "code",
   "execution_count": 100,
   "metadata": {},
   "outputs": [],
   "source": [
    "# Aggregate installments \n",
    "install_average_numerical = aggregate_numeric(install_df, 'SK_ID_CURR', 'mean')"
   ]
  },
  {
   "cell_type": "code",
   "execution_count": 99,
   "metadata": {},
   "outputs": [],
   "source": [
    "#Previous applications\n",
    "previous = most_recent_all(prev_app_df, 'SK_ID_CURR', 'DAYS_LAST_DUE')\n",
    "previous_average_numerical = aggregate_numeric(prev_app_df, 'SK_ID_CURR', 'mean')"
   ]
  },
  {
   "cell_type": "code",
   "execution_count": 331,
   "metadata": {},
   "outputs": [
    {
     "name": "stdout",
     "output_type": "stream",
     "text": [
      "Size of inputs:  (307511, 222)\n"
     ]
    }
   ],
   "source": [
    "current_numerical = list(set(['SK_ID_CURR'] + app_train_df.columns[app_train_df.dtypes != 'object'].tolist()))\n",
    "current_categories = list(set(['SK_ID_CURR'] + app_train_df.columns[app_train_df.dtypes == 'object'].tolist()))\n",
    "previous_numerical = list(set(['SK_ID_CURR'] + previous.columns[previous.dtypes != 'object'].tolist()))\n",
    "previous_categories = list(set(['SK_ID_CURR'] + previous.columns[previous.dtypes == 'object'].tolist()))\n",
    "\n",
    "merged_numerical = app_train_df[current_numerical].merge(\n",
    "    previous[previous_numerical], how='left', on='SK_ID_CURR', suffixes=('', '_APP_RECENT')).merge(\n",
    "    previous_average_numerical, how='left', on='SK_ID_CURR', suffixes=('', '_APP_AVG')).merge(\n",
    "    bureau_average_numerical, how='left', on='SK_ID_CURR', suffixes=('', '_BUREAU_AVG')).merge(\n",
    "    credit_average_numerical, how='left', on='SK_ID_CURR', suffixes=('', '_CREDIT_AVG')).merge(\n",
    "    pos_average_numerical, how='left', on='SK_ID_CURR', suffixes=('', '_POS_AVG')).merge(\n",
    "    install_average_numerical, how='left', on='SK_ID_CURR', suffixes=('', '_INSTALL_AVG'))\n",
    "merged_numerical.fillna(0, inplace=True)\n",
    "\n",
    "merged_categories = app_train_df[current_categories].merge(\n",
    "    previous[previous_categories], how='left', on='SK_ID_CURR', suffixes=('', '_APP_RECENT')).merge(\n",
    "    bureau_recent_categories, how='left', on='SK_ID_CURR', suffixes=('', '_BUREAU_CAT')).merge(\n",
    "    credit_recent_categories, how='left', on='SK_ID_CURR', suffixes=('', '_CREDIT_CAT')).merge(\n",
    "    pos_recent_categories, how='left', on='SK_ID_CURR', suffixes=('', '_POS_CAT'))\n",
    "merged_categories.fillna('NA', inplace=True)\n",
    "\n",
    "X = merged_numerical.merge(merged_categories, how='inner', on='SK_ID_CURR')\n",
    "y = merged_numerical[['TARGET']]\n",
    "X = X.drop(columns=['SK_ID_CURR', 'TARGET'])\n",
    "\n",
    "# Income Ratios\n",
    "# X['LOAN_INCOME_RATIO'] = X['AMT_CREDIT'] / X['AMT_INCOME_TOTAL']\n",
    "# X['ANNUITY_INCOME_RATIO'] = X['AMT_ANNUITY'] / X['AMT_INCOME_TOTAL']\n",
    "\n",
    "# # Annuity Length\n",
    "# X['ANNUITY LENGTH'] = X['AMT_CREDIT'] / X['AMT_ANNUITY']\n",
    "\n",
    "# # Social Ratios\n",
    "# X['WORKING_LIFE_RATIO'] = X['DAYS_EMPLOYED'] / X['DAYS_BIRTH']\n",
    "# X['INCOME_PER_FAM'] = X['AMT_INCOME_TOTAL'] / X['CNT_FAM_MEMBERS']\n",
    "# X['CHILDREN_RATIO'] = X['CNT_CHILDREN'] / X['CNT_FAM_MEMBERS']\n",
    "\n",
    "print('Size of inputs: ', X.shape)"
   ]
  },
  {
   "cell_type": "code",
   "execution_count": 332,
   "metadata": {},
   "outputs": [],
   "source": [
    "num_vals_dict = {\n",
    "    c: list(X[c].unique()) for c in X.columns if X[c].dtype != object\n",
    "}\n",
    "\n",
    "cat_vals_dict = {\n",
    "    c: list(X[c].unique()) for c in X.columns if X[c].dtype == object\n",
    "}\n",
    "\n",
    "cat_encoders = {}\n",
    "for c in cat_vals_dict:\n",
    "    enc = LabelEncoder()\n",
    "    enc.fit(cat_vals_dict[c])\n",
    "    cat_encoders[c] = enc\n",
    "    X[c] = cat_encoders[c].transform(X[c])\n",
    "    \n",
    "num_cols = [c for c in num_vals_dict]\n",
    "scaler = MinMaxScaler().fit(X[num_cols])\n",
    "X.loc[:,num_cols] = scaler.transform(X[num_cols])"
   ]
  },
  {
   "cell_type": "code",
   "execution_count": 333,
   "metadata": {},
   "outputs": [],
   "source": [
    "def build_embedding_network(numerical_inputs, categorical_inputs):\n",
    "    \n",
    "    model_out = []\n",
    "    model_in  = []\n",
    "    \n",
    "    for c in categorical_inputs:\n",
    "        dim = len(categorical_inputs[c])\n",
    "        input_dim = Input(shape=(1,), dtype='int32', name=c)\n",
    "        embed_dim = Embedding(dim, dim//2, input_length=1, name='%s_EMBED' % c)(input_dim)\n",
    "        embed_dim = Dropout(0.1)(embed_dim)\n",
    "        embed_dim = Reshape((dim//2,))(embed_dim)\n",
    "        model_out.append(embed_dim)\n",
    "        model_in.append(input_dim)\n",
    "    \n",
    "    input_num = Input(shape=(len(numerical_inputs),), dtype='float32', name='NUMERICAL_INPUTS')\n",
    "    outputs = Concatenate(axis=1)([*model_out, input_num])\n",
    "    \n",
    "    outputs = (Dense(128))(outputs) \n",
    "    outputs = (Activation('relu'))(outputs)\n",
    "    outputs = (Dropout(.35))(outputs)\n",
    "    outputs = (Dense(64))(outputs)\n",
    "    outputs = (Activation('relu'))(outputs)\n",
    "    outputs = (Dropout(.15))(outputs)\n",
    "    outputs = (Dense(32))(outputs) \n",
    "    outputs = (Activation('relu'))(outputs)\n",
    "    outputs = (Dropout(.15))(outputs)\n",
    "    outputs = (Dense(1))(outputs)\n",
    "    outputs = (Activation('sigmoid'))(outputs)\n",
    "    \n",
    "    model = Model([*model_in, input_num], outputs)\n",
    "\n",
    "    model.compile(loss='binary_crossentropy', optimizer='adam')\n",
    "    \n",
    "    return model"
   ]
  },
  {
   "cell_type": "code",
   "execution_count": 334,
   "metadata": {},
   "outputs": [],
   "source": [
    "def preproc(df, numerical_inputs, categorical_inputs):\n",
    "    return [df[c].values for c in categorical_inputs] + [df[numerical_inputs].values]"
   ]
  },
  {
   "cell_type": "code",
   "execution_count": 377,
   "metadata": {},
   "outputs": [
    {
     "name": "stdout",
     "output_type": "stream",
     "text": [
      "Processing Fold 1\n",
      "Train on 246008 samples, validate on 61503 samples\n",
      "Epoch 1/20\n",
      "246008/246008 [==============================] - 14s 59us/step - loss: 0.3337 - val_loss: 0.2767\n",
      "Epoch 2/20\n",
      "246008/246008 [==============================] - 7s 27us/step - loss: 0.2776 - val_loss: 0.2601\n",
      "Epoch 3/20\n",
      "246008/246008 [==============================] - 7s 28us/step - loss: 0.2650 - val_loss: 0.2532\n",
      "Epoch 4/20\n",
      "246008/246008 [==============================] - 7s 29us/step - loss: 0.2586 - val_loss: 0.2515\n",
      "Epoch 5/20\n",
      "246008/246008 [==============================] - 7s 29us/step - loss: 0.2560 - val_loss: 0.2503\n",
      "Epoch 6/20\n",
      "246008/246008 [==============================] - 7s 29us/step - loss: 0.2557 - val_loss: 0.2507\n",
      "Epoch 7/20\n",
      "246008/246008 [==============================] - 7s 29us/step - loss: 0.2541 - val_loss: 0.2497\n",
      "Epoch 8/20\n",
      "246008/246008 [==============================] - 7s 30us/step - loss: 0.2533 - val_loss: 0.2507\n",
      "Epoch 9/20\n",
      "246008/246008 [==============================] - 8s 31us/step - loss: 0.2529 - val_loss: 0.2497\n",
      "Epoch 10/20\n",
      "246008/246008 [==============================] - 8s 31us/step - loss: 0.2518 - val_loss: 0.2496\n",
      "Epoch 11/20\n",
      "246008/246008 [==============================] - 7s 30us/step - loss: 0.2511 - val_loss: 0.2497\n",
      "Epoch 12/20\n",
      "246008/246008 [==============================] - 7s 30us/step - loss: 0.2512 - val_loss: 0.2494\n",
      "Epoch 13/20\n",
      "246008/246008 [==============================] - 7s 30us/step - loss: 0.2507 - val_loss: 0.2492\n",
      "Epoch 14/20\n",
      "246008/246008 [==============================] - 8s 31us/step - loss: 0.2500 - val_loss: 0.2489\n",
      "Epoch 15/20\n",
      "246008/246008 [==============================] - 8s 30us/step - loss: 0.2492 - val_loss: 0.2497\n",
      "Epoch 16/20\n",
      "246008/246008 [==============================] - 7s 30us/step - loss: 0.2491 - val_loss: 0.2495\n",
      "Epoch 17/20\n",
      "246008/246008 [==============================] - 7s 30us/step - loss: 0.2487 - val_loss: 0.2498\n",
      "Epoch 18/20\n",
      "246008/246008 [==============================] - 7s 30us/step - loss: 0.2484 - val_loss: 0.2511\n",
      "Epoch 19/20\n",
      "246008/246008 [==============================] - 7s 29us/step - loss: 0.2491 - val_loss: 0.2486\n",
      "Epoch 20/20\n",
      "246008/246008 [==============================] - 8s 31us/step - loss: 0.2474 - val_loss: 0.2496\n",
      "Train AUC: 0.773731\n",
      "Test AUC: 0.751630\n"
     ]
    },
    {
     "data": {
      "image/png": "[encoded data removed]",
      "text/plain": [
       "<Figure size 432x288 with 1 Axes>"
      ]
     },
     "metadata": {
      "needs_background": "light"
     },
     "output_type": "display_data"
    },
    {
     "name": "stdout",
     "output_type": "stream",
     "text": [
      "Confusion Matrix:\n",
      "[[39358 17180]\n",
      " [ 1576  3389]]\n",
      "Processing Fold 2\n",
      "Train on 246009 samples, validate on 61502 samples\n",
      "Epoch 1/20\n",
      "246009/246009 [==============================] - 17s 71us/step - loss: 0.3415 - val_loss: 0.2758\n",
      "Epoch 2/20\n",
      "246009/246009 [==============================] - 7s 30us/step - loss: 0.2792 - val_loss: 0.2595\n",
      "Epoch 3/20\n",
      "246009/246009 [==============================] - 7s 29us/step - loss: 0.2641 - val_loss: 0.2529\n",
      "Epoch 4/20\n",
      "246009/246009 [==============================] - 7s 30us/step - loss: 0.2587 - val_loss: 0.2506\n",
      "Epoch 5/20\n",
      "246009/246009 [==============================] - 7s 29us/step - loss: 0.2562 - val_loss: 0.2495\n",
      "Epoch 6/20\n",
      "246009/246009 [==============================] - 7s 30us/step - loss: 0.2548 - val_loss: 0.2496\n",
      "Epoch 7/20\n",
      "246009/246009 [==============================] - 7s 29us/step - loss: 0.2545 - val_loss: 0.2495\n",
      "Epoch 8/20\n",
      "246009/246009 [==============================] - 7s 29us/step - loss: 0.2538 - val_loss: 0.2523\n",
      "Epoch 9/20\n",
      "246009/246009 [==============================] - 7s 30us/step - loss: 0.2530 - val_loss: 0.2492\n",
      "Epoch 10/20\n",
      "246009/246009 [==============================] - 7s 29us/step - loss: 0.2529 - val_loss: 0.2500\n",
      "Epoch 11/20\n",
      "246009/246009 [==============================] - 7s 30us/step - loss: 0.2524 - val_loss: 0.2487\n",
      "Epoch 12/20\n",
      "246009/246009 [==============================] - 7s 29us/step - loss: 0.2517 - val_loss: 0.2486\n",
      "Epoch 13/20\n",
      "246009/246009 [==============================] - 7s 30us/step - loss: 0.2517 - val_loss: 0.2491\n",
      "Epoch 14/20\n",
      "246009/246009 [==============================] - 7s 30us/step - loss: 0.2510 - val_loss: 0.2485\n",
      "Epoch 15/20\n",
      "246009/246009 [==============================] - 7s 30us/step - loss: 0.2504 - val_loss: 0.2482\n",
      "Epoch 16/20\n",
      "246009/246009 [==============================] - 7s 30us/step - loss: 0.2502 - val_loss: 0.2483\n",
      "Epoch 17/20\n",
      "246009/246009 [==============================] - 7s 30us/step - loss: 0.2498 - val_loss: 0.2486\n",
      "Epoch 18/20\n",
      "246009/246009 [==============================] - 7s 29us/step - loss: 0.2496 - val_loss: 0.2484\n",
      "Epoch 19/20\n",
      "246009/246009 [==============================] - 8s 31us/step - loss: 0.2493 - val_loss: 0.2483\n",
      "Epoch 20/20\n",
      "246009/246009 [==============================] - 7s 30us/step - loss: 0.2486 - val_loss: 0.2493\n",
      "Train AUC: 0.770546\n",
      "Test AUC: 0.754699\n"
     ]
    },
    {
     "data": {
      "image/png": "[encoded data removed]",
      "text/plain": [
       "<Figure size 432x288 with 1 Axes>"
      ]
     },
     "metadata": {
      "needs_background": "light"
     },
     "output_type": "display_data"
    },
    {
     "name": "stdout",
     "output_type": "stream",
     "text": [
      "Confusion Matrix:\n",
      "[[38601 17936]\n",
      " [ 1480  3485]]\n",
      "Processing Fold 3\n",
      "Train on 246009 samples, validate on 61502 samples\n",
      "Epoch 1/20\n",
      "246009/246009 [==============================] - 18s 74us/step - loss: 0.3317 - val_loss: 0.2746\n",
      "Epoch 2/20\n",
      "246009/246009 [==============================] - 7s 30us/step - loss: 0.2756 - val_loss: 0.2586\n",
      "Epoch 3/20\n",
      "246009/246009 [==============================] - 7s 30us/step - loss: 0.2618 - val_loss: 0.2534\n",
      "Epoch 4/20\n",
      "246009/246009 [==============================] - 7s 30us/step - loss: 0.2577 - val_loss: 0.2514\n",
      "Epoch 5/20\n",
      "246009/246009 [==============================] - 7s 30us/step - loss: 0.2555 - val_loss: 0.2492\n",
      "Epoch 6/20\n",
      "246009/246009 [==============================] - 7s 30us/step - loss: 0.2546 - val_loss: 0.2491\n",
      "Epoch 7/20\n",
      "246009/246009 [==============================] - 7s 29us/step - loss: 0.2537 - val_loss: 0.2488\n",
      "Epoch 8/20\n",
      "246009/246009 [==============================] - 7s 29us/step - loss: 0.2527 - val_loss: 0.2486\n",
      "Epoch 9/20\n",
      "246009/246009 [==============================] - 7s 29us/step - loss: 0.2524 - val_loss: 0.2483\n",
      "Epoch 10/20\n",
      "246009/246009 [==============================] - 7s 29us/step - loss: 0.2527 - val_loss: 0.2484\n",
      "Epoch 11/20\n",
      "246009/246009 [==============================] - 7s 30us/step - loss: 0.2519 - val_loss: 0.2480\n",
      "Epoch 12/20\n",
      "246009/246009 [==============================] - 7s 29us/step - loss: 0.2513 - val_loss: 0.2480\n",
      "Epoch 13/20\n",
      "246009/246009 [==============================] - 7s 30us/step - loss: 0.2518 - val_loss: 0.2483\n",
      "Epoch 14/20\n",
      "246009/246009 [==============================] - 7s 30us/step - loss: 0.2504 - val_loss: 0.2477\n",
      "Epoch 15/20\n",
      "246009/246009 [==============================] - 7s 30us/step - loss: 0.2505 - val_loss: 0.2479\n",
      "Epoch 16/20\n",
      "246009/246009 [==============================] - 7s 30us/step - loss: 0.2495 - val_loss: 0.2485\n",
      "Epoch 17/20\n",
      "246009/246009 [==============================] - 8s 33us/step - loss: 0.2501 - val_loss: 0.2477\n",
      "Epoch 18/20\n",
      "246009/246009 [==============================] - 8s 33us/step - loss: 0.2496 - val_loss: 0.2474\n",
      "Epoch 19/20\n",
      "246009/246009 [==============================] - 8s 32us/step - loss: 0.2491 - val_loss: 0.2473\n",
      "Epoch 20/20\n",
      "246009/246009 [==============================] - 7s 30us/step - loss: 0.2486 - val_loss: 0.2475\n",
      "Train AUC: 0.770502\n",
      "Test AUC: 0.755442\n"
     ]
    },
    {
     "data": {
      "image/png": "[encoded data removed]",
      "text/plain": [
       "<Figure size 432x288 with 1 Axes>"
      ]
     },
     "metadata": {
      "needs_background": "light"
     },
     "output_type": "display_data"
    },
    {
     "name": "stdout",
     "output_type": "stream",
     "text": [
      "Confusion Matrix:\n",
      "[[38025 18512]\n",
      " [ 1440  3525]]\n",
      "Processing Fold 4\n",
      "Train on 246009 samples, validate on 61502 samples\n",
      "Epoch 1/20\n",
      "246009/246009 [==============================] - 19s 77us/step - loss: 0.3294 - val_loss: 0.2730\n",
      "Epoch 2/20\n",
      "246009/246009 [==============================] - 8s 32us/step - loss: 0.2772 - val_loss: 0.2588\n",
      "Epoch 3/20\n",
      "246009/246009 [==============================] - 7s 30us/step - loss: 0.2635 - val_loss: 0.2526\n",
      "Epoch 4/20\n",
      "246009/246009 [==============================] - 7s 30us/step - loss: 0.2586 - val_loss: 0.2507\n",
      "Epoch 5/20\n",
      "246009/246009 [==============================] - 8s 31us/step - loss: 0.2561 - val_loss: 0.2500\n",
      "Epoch 6/20\n",
      "246009/246009 [==============================] - 7s 30us/step - loss: 0.2553 - val_loss: 0.2498\n",
      "Epoch 7/20\n",
      "246009/246009 [==============================] - 8s 31us/step - loss: 0.2547 - val_loss: 0.2498\n",
      "Epoch 8/20\n",
      "246009/246009 [==============================] - 8s 31us/step - loss: 0.2545 - val_loss: 0.2490\n",
      "Epoch 9/20\n",
      "246009/246009 [==============================] - 9s 35us/step - loss: 0.2533 - val_loss: 0.2498\n",
      "Epoch 10/20\n",
      "246009/246009 [==============================] - 8s 33us/step - loss: 0.2533 - val_loss: 0.2496\n",
      "Epoch 11/20\n",
      "246009/246009 [==============================] - 8s 32us/step - loss: 0.2526 - val_loss: 0.2497\n",
      "Epoch 12/20\n",
      "246009/246009 [==============================] - 8s 31us/step - loss: 0.2520 - val_loss: 0.2487\n",
      "Epoch 13/20\n",
      "246009/246009 [==============================] - 8s 30us/step - loss: 0.2520 - val_loss: 0.2486\n",
      "Epoch 14/20\n",
      "246009/246009 [==============================] - 8s 31us/step - loss: 0.2511 - val_loss: 0.2489\n",
      "Epoch 15/20\n",
      "246009/246009 [==============================] - 7s 30us/step - loss: 0.2508 - val_loss: 0.2483\n",
      "Epoch 16/20\n",
      "246009/246009 [==============================] - 8s 31us/step - loss: 0.2503 - val_loss: 0.2480\n",
      "Epoch 17/20\n",
      "246009/246009 [==============================] - 8s 32us/step - loss: 0.2496 - val_loss: 0.2484\n",
      "Epoch 18/20\n",
      "246009/246009 [==============================] - 7s 29us/step - loss: 0.2494 - val_loss: 0.2480\n",
      "Epoch 19/20\n",
      "246009/246009 [==============================] - 8s 31us/step - loss: 0.2488 - val_loss: 0.2480\n",
      "Epoch 20/20\n",
      "246009/246009 [==============================] - 7s 29us/step - loss: 0.2487 - val_loss: 0.2476\n",
      "Train AUC: 0.774335\n",
      "Test AUC: 0.755670\n"
     ]
    },
    {
     "data": {
      "image/png": "[encoded data removed]",
      "text/plain": [
       "<Figure size 432x288 with 1 Axes>"
      ]
     },
     "metadata": {
      "needs_background": "light"
     },
     "output_type": "display_data"
    },
    {
     "name": "stdout",
     "output_type": "stream",
     "text": [
      "Confusion Matrix:\n",
      "[[38563 17974]\n",
      " [ 1459  3506]]\n",
      "Processing Fold 5\n",
      "Train on 246009 samples, validate on 61502 samples\n",
      "Epoch 1/20\n",
      "246009/246009 [==============================] - 19s 77us/step - loss: 0.3133 - val_loss: 0.2681\n",
      "Epoch 2/20\n",
      "246009/246009 [==============================] - 7s 30us/step - loss: 0.2703 - val_loss: 0.2551\n",
      "Epoch 3/20\n",
      "246009/246009 [==============================] - 7s 30us/step - loss: 0.2602 - val_loss: 0.2502\n",
      "Epoch 4/20\n",
      "246009/246009 [==============================] - 7s 30us/step - loss: 0.2573 - val_loss: 0.2500\n",
      "Epoch 5/20\n",
      "246009/246009 [==============================] - 7s 30us/step - loss: 0.2551 - val_loss: 0.2488\n",
      "Epoch 6/20\n",
      "246009/246009 [==============================] - 7s 29us/step - loss: 0.2547 - val_loss: 0.2484\n",
      "Epoch 7/20\n",
      "246009/246009 [==============================] - 7s 29us/step - loss: 0.2542 - val_loss: 0.2483\n",
      "Epoch 8/20\n",
      "246009/246009 [==============================] - 7s 29us/step - loss: 0.2535 - val_loss: 0.2477\n",
      "Epoch 9/20\n",
      "246009/246009 [==============================] - 7s 30us/step - loss: 0.2528 - val_loss: 0.2483\n",
      "Epoch 10/20\n",
      "246009/246009 [==============================] - 7s 29us/step - loss: 0.2526 - val_loss: 0.2478\n",
      "Epoch 11/20\n",
      "246009/246009 [==============================] - 7s 29us/step - loss: 0.2519 - val_loss: 0.2473\n",
      "Epoch 12/20\n",
      "246009/246009 [==============================] - 7s 30us/step - loss: 0.2515 - val_loss: 0.2474\n",
      "Epoch 13/20\n",
      "246009/246009 [==============================] - 7s 29us/step - loss: 0.2508 - val_loss: 0.2482\n",
      "Epoch 14/20\n",
      "246009/246009 [==============================] - 7s 30us/step - loss: 0.2506 - val_loss: 0.2470\n",
      "Epoch 15/20\n",
      "246009/246009 [==============================] - 7s 29us/step - loss: 0.2498 - val_loss: 0.2472\n",
      "Epoch 16/20\n",
      "246009/246009 [==============================] - 7s 30us/step - loss: 0.2496 - val_loss: 0.2477\n",
      "Epoch 17/20\n",
      "246009/246009 [==============================] - 7s 29us/step - loss: 0.2498 - val_loss: 0.2470\n",
      "Epoch 18/20\n",
      "246009/246009 [==============================] - 7s 30us/step - loss: 0.2486 - val_loss: 0.2467\n",
      "Epoch 19/20\n",
      "246009/246009 [==============================] - 7s 29us/step - loss: 0.2482 - val_loss: 0.2476\n",
      "Epoch 20/20\n",
      "246009/246009 [==============================] - 7s 29us/step - loss: 0.2484 - val_loss: 0.2484\n",
      "Train AUC: 0.772011\n",
      "Test AUC: 0.758701\n"
     ]
    },
    {
     "data": {
      "image/png": "[encoded data removed]",
      "text/plain": [
       "<Figure size 432x288 with 1 Axes>"
      ]
     },
     "metadata": {
      "needs_background": "light"
     },
     "output_type": "display_data"
    },
    {
     "name": "stdout",
     "output_type": "stream",
     "text": [
      "Confusion Matrix:\n",
      "[[36478 20059]\n",
      " [ 1291  3674]]\n"
     ]
    }
   ],
   "source": [
    "K = 5\n",
    "n_epochs = 20\n",
    "\n",
    "cv_aucs   = []\n",
    "full_val_preds = np.zeros(np.shape(X)[0])\n",
    "y_preds = np.zeros((np.shape(X)[0],K))\n",
    "\n",
    "kfold = StratifiedKFold(\n",
    "    n_splits = K,\n",
    "    shuffle = True, \n",
    "    random_state=1\n",
    ")\n",
    "\n",
    "backend.clear_session()\n",
    "for i, (train_ind, test_ind) in enumerate(kfold.split(X, y)):\n",
    "    print('Processing Fold %d' % (i+1))\n",
    "    X_train = X.loc[train_ind, :]\n",
    "    y_train = y.loc[train_ind, :].values\n",
    "    \n",
    "    X_test = X.loc[test_ind, :]\n",
    "    y_test = y.loc[test_ind, :].values\n",
    "    \n",
    "    X_train_inputs = preproc(X_train, num_vals_dict, cat_vals_dict)    \n",
    "    X_test_inputs = preproc(X_test, num_vals_dict, cat_vals_dict)\n",
    "    \n",
    "    model = build_embedding_network(num_vals_dict, cat_vals_dict)\n",
    "    model.fit(\n",
    "        X_train_inputs, y_train,\n",
    "        validation_data=(X_test_inputs, y_test),\n",
    "        epochs=n_epochs,\n",
    "        batch_size=4096,\n",
    "        verbose=1)\n",
    "    \n",
    "    predicted_train = model.predict(X_train_inputs)\n",
    "    predicted_test = model.predict(X_test_inputs)\n",
    "    \n",
    "    # Evaluations\n",
    "    cv_auc  = roc_auc_score(y_train, predicted_train)\n",
    "    print('Train AUC: %f' % cv_auc)\n",
    "    cv_auc  = roc_auc_score(y_test, predicted_test)\n",
    "    print('Test AUC: %f' % cv_auc)\n",
    "\n",
    "    fpr, tpr, thresholds = roc_curve(y_train, predicted_train)\n",
    "    plt.plot(fpr, tpr, color='g', lw=2, alpha=.8)\n",
    "    fpr, tpr, thresholds = roc_curve(y_test, predicted_test)\n",
    "    plt.plot(fpr, tpr, color='b', lw=2, alpha=.8)\n",
    "    plt.plot([0, 1], [0, 1], linestyle='--', lw=2, color='r', alpha=.8)\n",
    "    plt.show()\n",
    "\n",
    "    best_cutoff = np.argmax(tpr - fpr)\n",
    "\n",
    "    y_pred = predicted_test\n",
    "    y_pred[y_pred >= thresholds[best_cutoff]] = 1\n",
    "    y_pred[y_pred < thresholds[best_cutoff]] = 0\n",
    "    print('Confusion Matrix:')\n",
    "    print(confusion_matrix(y_test, predicted_test))"
   ]
  },
  {
   "cell_type": "code",
   "execution_count": null,
   "metadata": {},
   "outputs": [],
   "source": []
  }
 ],
 "metadata": {
  "kernelspec": {
   "display_name": "Python 3",
   "language": "python",
   "name": "python3"
  },
  "language_info": {
   "codemirror_mode": {
    "name": "ipython",
    "version": 3
   },
   "file_extension": ".py",
   "mimetype": "text/x-python",
   "name": "python",
   "nbconvert_exporter": "python",
   "pygments_lexer": "ipython3",
   "version": "3.6.8"
  }
 },
 "nbformat": 4,
 "nbformat_minor": 2
}
